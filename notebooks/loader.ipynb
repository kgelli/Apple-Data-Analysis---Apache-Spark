{
 "cells": [
  {
   "cell_type": "code",
   "execution_count": 0,
   "metadata": {
    "application/vnd.databricks.v1+cell": {
     "cellMetadata": {
      "byteLimit": 2048000,
      "rowLimit": 10000
     },
     "inputWidgets": {},
     "nuid": "abe03c6a-65d7-4818-9519-62b0e7f67c3e",
     "showTitle": false,
     "tableResultSettingsMap": {},
     "title": ""
    }
   },
   "outputs": [],
   "source": [
    "%run \"./loader_factory\""
   ]
  },
  {
   "cell_type": "code",
   "execution_count": 0,
   "metadata": {
    "application/vnd.databricks.v1+cell": {
     "cellMetadata": {
      "byteLimit": 2048000,
      "rowLimit": 10000
     },
     "inputWidgets": {},
     "nuid": "9bbc6cb9-876b-4fdd-95cf-b98c3f0166b3",
     "showTitle": false,
     "tableResultSettingsMap": {},
     "title": ""
    }
   },
   "outputs": [
    {
     "output_type": "display_data",
     "data": {
      "text/plain": [
       ""
      ]
     },
     "metadata": {
      "application/vnd.databricks.v1+output": {
       "arguments": {},
       "data": "",
       "errorSummary": "Command skipped",
       "errorTraceType": "ansi",
       "metadata": {},
       "type": "ipynbError"
      }
     },
     "output_type": "display_data"
    }
   ],
   "source": [
    "class AbstractLoader:\n",
    "    def __init__(self, transformedDF):\n",
    "        self.transformedDF = transformedDF\n",
    "\n",
    "    def sink(self):\n",
    "\n",
    "        pass\n",
    "\n",
    "class AirPodsAfterIphoneLoader(AbstractLoader):\n",
    "\n",
    "    def sink(self):\n",
    "        get_sink_source(\n",
    "            sink_type = \"dbfs\",\n",
    "            df = self.transformedDF, \n",
    "            path = \"dbfs:/FileStore/tables/apple_analysis/output/airpodsAfterIphone\", \n",
    "            method = \"overwrite\"\n",
    "        ).load_data_frame()\n",
    "\n",
    "class OnlyAirpodsAndIPhoneLoader(AbstractLoader):\n",
    "\n",
    "    def sink(self):\n",
    "        params = {\n",
    "            \"partitionByColumns\": [\"location\"]\n",
    "        }\n",
    "        get_sink_source(\n",
    "            sink_type = \"dbfs_with_partition\",\n",
    "            df = self.transformedDF, \n",
    "            path = \"dbfs:/FileStore/tables/apple_analysis/output/airpodsOnlyIphone\", \n",
    "            method = \"overwrite\",\n",
    "            params = params\n",
    "        ).load_data_frame()\n",
    "\n",
    "        get_sink_source(\n",
    "            sink_type = \"delta\",\n",
    "            df = self.transformedDF, \n",
    "            path = \"default.onlyAirPodsAndIphone\", \n",
    "            method = \"overwrite\",\n",
    "        ).load_data_frame()           \n"
   ]
  }
 ],
 "metadata": {
  "application/vnd.databricks.v1+notebook": {
   "computePreferences": null,
   "dashboards": [],
   "environmentMetadata": null,
   "language": "python",
   "notebookMetadata": {
    "pythonIndentUnit": 4
   },
   "notebookName": "loader",
   "widgets": {}
  },
  "language_info": {
   "name": "python"
  }
 },
 "nbformat": 4,
 "nbformat_minor": 0
}